{
 "cells": [
  {
   "cell_type": "code",
   "execution_count": 1,
   "id": "3a0795c4",
   "metadata": {},
   "outputs": [
    {
     "name": "stdout",
     "output_type": "stream",
     "text": [
      "Requirement already satisfied: pyttsx3 in d:\\anaconda\\lib\\site-packages (2.90)\n",
      "Requirement already satisfied: pywin32 in d:\\anaconda\\lib\\site-packages (from pyttsx3) (227)\n",
      "Requirement already satisfied: pypiwin32 in d:\\anaconda\\lib\\site-packages (from pyttsx3) (223)\n",
      "Requirement already satisfied: comtypes in d:\\anaconda\\lib\\site-packages (from pyttsx3) (1.1.9)\n"
     ]
    }
   ],
   "source": [
    "!pip install pyttsx3 "
   ]
  },
  {
   "cell_type": "code",
   "execution_count": 2,
   "id": "ed895a60",
   "metadata": {},
   "outputs": [
    {
     "name": "stdout",
     "output_type": "stream",
     "text": [
      "[<pyttsx3.voice.Voice object at 0x0000029693FA8BB0>, <pyttsx3.voice.Voice object at 0x00000296B44DCC70>]\n",
      "200\n",
      "1.0\n"
     ]
    }
   ],
   "source": [
    "#### engine instance of class has getPropoerty and setProperty method  set voice:male/male,speech rate,volume \n",
    "import pyttsx3\n",
    "engine = pyttsx3.init()\n",
    "### check for male/female voice and chooose female at index 1,first get Property then set Property\n",
    "voices = engine.getProperty('voices')\n",
    "print(voices)\n",
    "engine.setProperty('voice', voices[1].id)  \n",
    "### changing speech rate ,use  it is defind as word per minute \n",
    "rate = engine.getProperty('rate')\n",
    "print(rate)\n",
    "engine.setProperty('rate', 125)\n",
    "#### change volume(0 to 1,by defualt it is 1)\n",
    "volume = engine.getProperty('volume')\n",
    "print(volume)\n",
    "engine.setProperty('volume', 0.5)\n",
    "\n",
    "########\n",
    "engine.say('This is a my python test for checking text to speech.')\n",
    "engine.runAndWait()\n"
   ]
  },
  {
   "cell_type": "code",
   "execution_count": null,
   "id": "87afd25c",
   "metadata": {},
   "outputs": [],
   "source": []
  }
 ],
 "metadata": {
  "kernelspec": {
   "display_name": "Python 3",
   "language": "python",
   "name": "python3"
  },
  "language_info": {
   "codemirror_mode": {
    "name": "ipython",
    "version": 3
   },
   "file_extension": ".py",
   "mimetype": "text/x-python",
   "name": "python",
   "nbconvert_exporter": "python",
   "pygments_lexer": "ipython3",
   "version": "3.8.8"
  }
 },
 "nbformat": 4,
 "nbformat_minor": 5
}
